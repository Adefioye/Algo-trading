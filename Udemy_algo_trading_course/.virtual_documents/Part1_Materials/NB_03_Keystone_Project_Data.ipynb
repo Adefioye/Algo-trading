






























































import yfinance as yf
from yahooquery import Ticker
import pandas as pd


url = "https://en.wikipedia.org/wiki/Dow_Jones_Industrial_Average"
url


df = pd.read_html(url)[1]
df


df.info()


df.rename(columns = {"Date added":"Date_Added"}, inplace = True)
df.rename(columns = {"Index weighting":"Weights"}, inplace = True)


df.Date_Added = pd.to_datetime(df.Date_Added)


df.Weights = pd.to_numeric(df.Weights.str.replace("%", ""))


df


df.Weights.sum()


df.drop(columns = "Notes", inplace = True)


df.set_index("Symbol", inplace = True)


df


symbols = df.index.to_list()
symbols


last_update = df["Date_Added"].max()
last_update








symbols


last_update


ts = yf.download(tickers = symbols, start = last_update)
ts


ts.info()


ts.Close


ts.dropna(inplace = True)


perf = ts.Close.iloc[-1].div(ts.Close.iloc[0]).sub(1).sort_values(ascending = False)
perf # total price increase/decrease (in %) since last reconstitution


perf.index.name = "Symbol"


perf


df


df["Performance"] = perf
df


df.sort_values(by = "Performance", ascending = False)











msft = yf.Ticker(ticker = "msft") 
msft


msft.get_info()


info = pd.Series(msft.get_info()).to_frame().T
info


symbols


cs = pd.DataFrame()
cs


count = 1
for symbol in symbols:
    try:
        info = pd.Series(yf.Ticker(ticker = symbol).get_info()).to_frame().T
        cs = pd.concat([cs, info])
        print(count, end = '\r')
        count += 1
    except Exception as e:
        print("{} not found".format(symbol))
print("Download complete.")
cs["symbol"] = symbols # Added


cs


cs.set_index("symbol", inplace = True)


cs.index.name = "Symbol"
cs


cs.info()








msft = Ticker("MSFT")
msft


msft.key_stats["MSFT"] # key statistics


msft.financial_data["MSFT"] # financial data


msft.summary_detail["MSFT"] # summary statistics


symbols


cs = pd.DataFrame()
cs


count = 1
for symbol in symbols:
    try:
        all_info = Ticker(symbol).key_stats[symbol] # key statistics
        all_info.update(Ticker(symbol).financial_data[symbol]) # financial data
        all_info.update(Ticker(symbol).summary_detail[symbol]) # summary_details
        all_info = pd.Series(all_info).to_frame().T
        cs = pd.concat([cs, all_info])
        print(count, end = '\r')
        count += 1
    except Exception as e:
        print("{} not found".format(symbol))
print("Download complete.")
cs["symbol"] = symbols # Added


cs


cs.set_index("symbol", inplace = True)
cs


cs.index.name = "Symbol"
cs


cs.info()








df


cs





cs["priceToBook"].sort_values(ascending = False)


cs.loc["BA", "bookValue"]





df["PricetoBook"] = (cs.currentPrice / cs.bookValue)
df





cs.dividendYield


df["Dividend_Yield"] = cs.dividendYield.fillna(0)
df





df["ForwardPE"] = cs.forwardPE
df





df.sort_values("PricetoBook", ascending = False)


df.sort_values("ForwardPE", ascending = False)


df.sort_values("Dividend_Yield", ascending = False)




































































import pandas as pd


url = "https://www.interactivebrokers.com/en/index.php?f=2222&exch=nse&showcategories=STK&p=&cc=&limit=100&page={}"


pd.read_html(url.format(1))[2]


pages = 22


df = pd.DataFrame()


for i in range(1, pages + 1):
    table = pd.read_html(url.format(i))[2]
    df = pd.concat([df, table])


df


df.reset_index(drop = True, inplace = True)


df


df.info()





import yfinance as yf


symbol = df.Symbol[0] + ".NS"
symbol


yf.download(symbol)



