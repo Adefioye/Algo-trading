








# !pip install yfinance --upgrade








# !pip install yahooquery --upgrade














import yfinance as yf
import pandas as pd
import matplotlib.pyplot as plt
from yahooquery import Ticker  
plt.style.use("seaborn-v0_8")





aapl = yf.Ticker(ticker = "AAPL")
aapl


aapl.history() # historical price and volume data


aapl.get_info()


info = pd.Series(aapl.get_info())
info


info.head(50)


#aapl.





aapl.fast_info # OLD


fast_info = aapl.get_fast_info() # NEW! before: fast_info
fast_info


fast_info["currency"]


fast_info["lastPrice"]








yq = Ticker(symbols = "AAPL")  
yq


yq.key_stats["AAPL"] # key statistics


yq.financial_data["AAPL"] # financial data


yq.summary_detail["AAPL"] # summary statistics








info # yfinance Alt1


fast_info  # yfinance Alt2





market_cap = info.marketCap #yfinance Alt1
market_cap


market_cap = fast_info["market_cap"] #yfinance Alt2
market_cap


market_cap = yq.summary_detail["AAPL"]["marketCap"] #yahooquery
market_cap











shares = info.sharesOutstanding #yfinance
shares


shares = yq.key_stats["AAPL"]["sharesOutstanding"] #yahooquery
shares








price = info.currentPrice #yfinance Alt1
price


price = fast_info.last_price #yfinance Alt2
price





price = yq.financial_data["AAPL"]["currentPrice"] #yahooquery
price


market_cap / shares














info #yfinance Alt1


fast_info #yfinance Alt2





market_cap = info.marketCap #yfinance Alt1
market_cap


market_cap = fast_info["market_cap"] #yfinance Alt2
market_cap


market_cap = yq.summary_detail["AAPL"]["marketCap"] #yahooquery
market_cap





debt = info.totalDebt #yfinance
debt


debt = yq.financial_data["AAPL"]["totalDebt"] #yahooquery
debt











firm_value = market_cap + debt
firm_value





plt.bar(["Firm Value"], [market_cap], label = "Equity", width = 0.5)
plt.bar(["Firm Value"], [debt], label = "Debt", width = 0.5, bottom = market_cap)
plt.xlim(-1, 1)
plt.legend(fontsize = 12)
plt.title("Firm Value Apple Inc", fontsize = 15)
plt.show()























info # yfinance Alt1


fast_info # yfinance Alt2


price = info.currentPrice #yfinance Alt1
price


price = fast_info.last_price #yfinance Alt2
price


bv = info["bookValue"] #yfinance
bv


bv = yq.key_stats["AAPL"]["bookValue"] #yahooquery
bv


price_book = price/bv
price_book


info["priceToBook"] #yfinance


yq.key_stats["AAPL"]["priceToBook"] #yahooquery





symbol = "GM"


yf.Ticker(ticker = symbol).get_info()["priceToBook"] #yfinance


Ticker(symbol).key_stats[symbol]["priceToBook"] #yahooquery





























aapl #yfinance


yq #yahooquery





bs = aapl.get_balance_sheet() / 1000000 # annual (in million USD) yfinance
bs


bs = yq.balance_sheet().T #yahooquery
bs








inc_stat = aapl.get_income_stmt() / 1000000 # (in million USD) yfinance
inc_stat


inc_stat = yq.income_statement().T # yahooquery
inc_stat








cf = aapl.get_cashflow() / 1000000 # (in million USD) #yfinance
cf


cf = yq.cash_flow().T #yahooquery
cf








aapl.quarterly_balance_sheet #yfinance


aapl.quarterly_income_stmt #yfinance


aapl.quarterly_cashflow #yfinance


yq.balance_sheet(frequency = "q").T #yahooquery


yq.income_statement(frequency = "q").T #yahooquery


yq.cash_flow(frequency = "q").T #yahooquery












