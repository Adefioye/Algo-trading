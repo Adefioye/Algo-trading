





#!pip install yfinance





import yfinance as yf
import pandas as pd
import matplotlib.pyplot as plt
plt.style.use("seaborn-v0_8")


symbol = "AAPL" # ticker symbol for Apple Inc.


df = yf.download(tickers = symbol)
df


df.index = pd.to_datetime(df.index.date)
df


df.index


df.info()








df.Close.plot(figsize = (12, 8), fontsize = 12)
plt.ylabel("Price (USD)")
plt.title("AAPL Price Chart", fontsize = 15)
plt.show()





df.loc["2022-6", "Volume"].plot(figsize = (12, 8), kind = "bar")
plt.ylabel("Volume (Shares)")
plt.title("AAPL Trading Volume (daily)", fontsize = 15)
plt.show()


df.Volume.mul(df.Close) # Trading Volume (USD Value)














yf.__version__


yf.download(tickers = symbol)








df


df.loc["2022-01-01":"2022-01-15"]


df.loc["2022"]


df.loc["2017":]


df = yf.download(tickers = symbol, start = "2020-07-01", end = "2020-12-31")
df





df = yf.download(tickers = symbol, period = "1mo") # last 30 days
df


df = yf.download(tickers = symbol, period = "1y") # last 365 days 
df


df = yf.download(tickers = symbol, period = "ytd") # year-to-date 
df


df = yf.download(tickers = symbol, period = "max") # max
df














df = yf.download(tickers = symbol, interval = "1d")
df





df = yf.download(tickers = symbol, interval = "1mo")
df





df = yf.download(tickers = symbol, interval = "1wk")
df





#df = yf.download(tickers = symbol, interval = "1h")
#df


df = yf.download(tickers = symbol, period = "1y", interval = "1h")
df





#df = yf.download(tickers = symbol, period = "1y", interval = "1m")
#df


df = yf.download(tickers = symbol, period = "1wk", interval = "1m")
df
































# option 1 -> same data as in video
df = pd.read_csv("aapl.csv", index_col = "Date", parse_dates = ["Date"]) # for more information, see lecture "Saving and Loading Data (Local Files)"  
df


# option 2 -> max period
df = yf.download(tickers = symbol, actions = True) 
df


df.loc[df.Dividends != 0]


df.Dividends.sum() # cumulative Dividends per share


df.Close.iloc[-1] - df.Close.iloc[0] # cumulative Stock Price Increase - OLD


df.Close.iloc[-1] - df.Close.iloc[0] # cumulative Stock Price Increase - NEW


df.loc[df.Dividends != 0].Dividends.plot()
plt.show()














df


df2 = df[["Close", "Adj Close", "Dividends"]].copy()
df2


df2.loc["2015":].plot(figsize = (12, 8), secondary_y = "Dividends")
plt.show()


df2[df2.Dividends > 0]


last_div = df2.loc["2022-08-01": "2022-08-5"].copy()
last_div


last_div.Close - last_div["Adj Close"]





multiplier = (1 - 0.23/165.809998)
multiplier


last_div


last_div["Adj Close calc"] = last_div.Close * multiplier
last_div


df["Adj Close"] / df["Close"] # total multiplier (all dividends)


df














df








splits = df.loc[df["Stock Splits"] > 0]
splits














splits.loc["2020-08-31", "Close"] 





splits.loc["2020-08-31", "Close"] * splits.loc["2020-08-31", "Stock Splits"]











df["Stock Splits"].replace(to_replace = 0, value = 1, inplace = True) # 1:1 on all other days
df


df["Multiplier"] = df.sort_index(ascending = False)["Stock Splits"].cumprod() # cumulative multipier
df


df["Close_unadj"] = df["Close"] * df.Multiplier # observable close price
df


df[["Close", "Close_unadj"]].plot(figsize = (12 ,8))
plt.vlines(splits.index, 0, 700, color = "black")
plt.show()








df["div_unadj"] = df["Dividends"] * df.Multiplier


df.loc[df.div_unadj != 0].div_unadj.plot(figsize = (12, 8))
plt.show()





df["Volume_unadj"] = df["Volume"] / df.Multiplier


df["Volume_unadj"].plot(figsize = (12, 8))
plt.show()








yf.download(tickers = "AAPL") # US Ticker (no suffix)


#yf.download(tickers = "RELIANCE") # Indian Ticker (no suffix)








yf.download(tickers = "RELIANCE.NS") # Indian Ticker


yf.download(tickers = "LHA.DE") # German Ticker (Deutsche Boerse XETRA)


yf.download(tickers = "LHA.F") # German Ticker (Frankfurt Stock Exchange)








df = yf.download(tickers = ["AAPL", "MSFT"]) # multiple tickers
df


df.info()


df.columns


df.Close # outer index level


df.loc[:, ("Close", "MSFT")] # one specific column


df.Close.MSFT # one specific column


df.loc[:, (slice(None), slice("AAPL"))] # inner index level


df = df.swaplevel(axis = "columns").sort_index(axis = "columns")
df


df.AAPL


df = yf.download(tickers = ["LHA.F", "LHA.DE"]).Close
df


#df.LHA.F # incorrect


df["LHA.F"]


df.columns = ["LHA_DE", "LHA_F"]


df


df.LHA_F








import yfinance as yf
import pandas as pd


symbol = "AAPL"


df = yf.download(symbol)
df


df.to_csv(path_or_buf = "apple.csv") # writing to local csv


df2 = pd.read_csv("apple.csv", index_col="Date", parse_dates= ["Date"]) # loading from local csv
df2


df2.info()





symbols = ["AAPL", "MSFT"]


df = yf.download(symbols)
df


df.to_csv(path_or_buf = "two_stocks.csv") # writing to local csv


df2 = pd.read_csv("two_stocks.csv", header = [0, 1], index_col = [0], parse_dates = [0]) # loading from local csv
df2


df2.info()
































import yfinance as yf
import pandas as pd
import matplotlib.pyplot as plt
plt.style.use("seaborn-v0_8")


symbols = ["JNJ", "TSLA"]


df = yf.download(symbols, actions = True)
df


df.Close.plot(figsize = (12, 8))
plt.show()


df = df.swaplevel(axis = "columns").sort_index(axis = "columns")
df


jnj = df.JNJ
jnj


jnj[["Close", "Adj Close"]].plot(figsize = (12, 8))
plt.show()





jnj.Dividends.sum()





jnj.Close.iloc[-1] - jnj.Close.iloc[0] # from Pandas v. 2.0 use iloc!





jnj.loc[jnj.Dividends != 0].Dividends.plot()
plt.show()


tsla = df.TSLA.dropna()
tsla


tsla[["Close", "Adj Close"]].plot(figsize = (12, 8))
plt.show()





tsla.Dividends.sum()





tsla.Close.iloc[-1] - tsla.Close.iloc[0]





tsla.loc[tsla.Dividends != 0].Dividends.plot()
plt.show()






