








#!pip install ib_insync


























from ib_insync import *
util.startLoop() # required in Jupyter (interactive environments), not in scripts 


ib = IB()





ib.connect()


ib.positions()


ib.disconnect()








from ib_insync import *
util.startLoop()


ib = IB()


ib.connect()


contract = Forex("EURUSD")
contract


contract = ib.qualifyContracts(contract)
contract


type(contract)


contract[0]


contract[0].conId





# Contract(conId=270639)
# Stock('AMD', 'SMART', 'USD')
# Stock('INTC', 'SMART', 'USD', primaryExchange='NASDAQ')
# Forex('EURUSD')
# CFD('IBUS30')
# Future('ES', '20180921', 'GLOBEX')
# Option('SPY', '20170721', 240, 'C', 'SMART')
# Bond(secIdType='ISIN', secId='US03076KAA60');


contract = Stock("AAPL", "SMART", "USD")
contract


contract = ib.qualifyContracts(contract) # unambiguous
contract


contract = ib.qualifyContracts(Stock("AAPL")) # ambiguous
contract


ib.disconnect()








import pandas as pd
from ib_insync import *
util.startLoop()


ib = IB()


ib.connect()


contract = Forex("EURUSD")
contract


data1 = ib.reqMktData(contract)
data1


data1


data1.ask


data1.askSize


data1.marketPrice()


data1.time


pd.to_datetime(data1.time)


contract = Stock("AAPL", "SMART", "USD")
contract


data2 = ib.reqMktData(contract)


data2


data2.ask


ib.reqMarketDataType(3)








contract = Stock("LHA", "SMART", "EUR")
contract


data3 = ib.reqMktData(contract)


data3


data3.marketPrice()


ib.disconnect()








for i in range(10):
    print(round(data1.marketPrice(), 5), round(data2.marketPrice(), 3), round(data3.marketPrice(), 3))
    ib.sleep(1)








from ib_insync import *
util.startLoop()


ib = IB()


ib.connect()





contract = Stock("AAPL", "SMART", "USD")
contract


cds = ib.reqContractDetails(contract)
cds


len(cds)


cds[0].contract


cds[0].contract.conId


cds[0].orderTypes





contract = Stock("GSDFOLS", "SMART", "USD")
contract


cds = ib.reqContractDetails(contract)
cds


len(cds) 





contract = Stock("AAPL")
contract


cds = ib.reqContractDetails(contract)
cds


len(cds)


contracts = [cd.contract for cd in cds]
contracts


contracts[0]


util.df(contracts) # converting to pd Dataframe shortcut (alternative: pd.DataFrame())


contract = Stock("LHA", "SMART", "EUR")
contract


cds = ib.reqContractDetails(contract)
cds


len(cds)


ib.disconnect()




















import pandas as pd
from ib_insync import *
util.startLoop()


ib = IB()


ib.connect()


df = pd.read_csv("DJI_Const.csv", header = [0, 1], index_col = 0, parse_dates = [0])
df


symbols = df.Close.columns.to_list()
symbols


symbols.remove("^DJI")


symbols.insert(5, "GDKJSD")
symbols


contracts = []


for symbol in symbols:
    contract = Stock(symbol, "SMART", "USD")
    cds = ib.reqContractDetails(contract)
    if len(cds) == 0:
        print("No Contract for {} found.".format(symbol))
    elif len(cds) == 1:
        contracts.append(cds[0].contract)
    else:
        contracts.append(cds[0].contract)
        print("Multiple Contracts for {} found.".format(symbol))


contracts


df = util.df(contracts)
df


ib.disconnect()














import pandas as pd
from ib_insync import *
util.startLoop()


ib = IB()


ib.connect()


contract = Stock("AAPL", "SMART", "USD")
contract


ib.qualifyContracts(contract)





order = MarketOrder(action = "BUY", totalQuantity = 50)
order


trade = ib.placeOrder(contract, order)
trade





ib.sleep(5)
trade.log


trade


trade.orderStatus.status


trade.orderStatus.avgFillPrice


ib.trades()


ib.orders()





order = MarketOrder(action = "SELL", totalQuantity = 1)
order


trade = ib.placeOrder(contract, order)
ib.sleep(1)
trade


ib.trades()





%%time
order = MarketOrder("BUY", 1)

trade = ib.placeOrder(contract, order)
while not trade.isDone():
    ib.waitOnUpdate()


trade


ib.fills()


df = util.df([fs.execution for fs in ib.fills()])
df


ib.disconnect()








import pandas as pd
from ib_insync import *
util.startLoop()


ib = IB()


ib.connect()


pos = ib.positions()
pos


df = util.df(pos)
df


df["symbol"] = df.contract.apply(lambda x: x.symbol)
df["conID"] = df.contract.apply(lambda x: x.conId)


df


av = ib.accountValues()
av


df2 = util.df(av)
df2


df2.loc[df2.tag == "CashBalance"]


ib.disconnect()








from ib_insync import *
util.startLoop()


ib = IB()
ib.connect()


contract = Forex("EURUSD")
contract


start = ib.reqHeadTimeStamp(contract, whatToShow = "MIDPOINT", useRTH = True)
start


data = ib.reqHistoricalData(contract, "", barSizeSetting = "1 day", durationStr = "60 D", 
                whatToShow = "MIDPOINT", useRTH = True)
data


df = util.df(data)
df








df = util.df(ib.reqHistoricalData(contract, "", barSizeSetting = "5 mins", durationStr = "1 D", 
                    whatToShow = "MIDPOINT", useRTH = True, formatDate = 2))
df


df = df.set_index("date").tz_convert("US/Eastern")
df


contract = Stock("AAPL", "SMART", "USD")
contract


data = ib.reqHistoricalData(contract, "", barSizeSetting = "1 day", durationStr = "60 D", 
                whatToShow = "MIDPOINT", useRTH = True)
data


df = util.df(data)
df



